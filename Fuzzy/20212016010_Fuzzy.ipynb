{
 "cells": [
  {
   "cell_type": "code",
   "execution_count": 1,
   "metadata": {
    "colab": {
     "base_uri": "https://localhost:8080/"
    },
    "id": "uqjSN5_HifAq",
    "outputId": "503bd337-f826-4bba-b010-fc9044ec765c"
   },
   "outputs": [
    {
     "ename": "ModuleNotFoundError",
     "evalue": "No module named 'numpy'",
     "output_type": "error",
     "traceback": [
      "\u001b[1;31m---------------------------------------------------------------------------\u001b[0m",
      "\u001b[1;31mModuleNotFoundError\u001b[0m                       Traceback (most recent call last)",
      "Cell \u001b[1;32mIn[1], line 2\u001b[0m\n\u001b[0;32m      1\u001b[0m get_ipython()\u001b[38;5;241m.\u001b[39msystem(\u001b[38;5;124m'\u001b[39m\u001b[38;5;124mpip install -q scikit-fuzzy\u001b[39m\u001b[38;5;124m'\u001b[39m)\n\u001b[1;32m----> 2\u001b[0m \u001b[38;5;28;01mimport\u001b[39;00m \u001b[38;5;21;01mnumpy\u001b[39;00m \u001b[38;5;28;01mas\u001b[39;00m \u001b[38;5;21;01mnp\u001b[39;00m\n\u001b[0;32m      3\u001b[0m \u001b[38;5;28;01mimport\u001b[39;00m \u001b[38;5;21;01mskfuzzy\u001b[39;00m \u001b[38;5;28;01mas\u001b[39;00m \u001b[38;5;21;01mfuzz\u001b[39;00m\n\u001b[0;32m      4\u001b[0m \u001b[38;5;28;01mfrom\u001b[39;00m \u001b[38;5;21;01mskfuzzy\u001b[39;00m \u001b[38;5;28;01mimport\u001b[39;00m control \u001b[38;5;28;01mas\u001b[39;00m ctrl\n",
      "\u001b[1;31mModuleNotFoundError\u001b[0m: No module named 'numpy'"
     ]
    }
   ],
   "source": [
    "!pip install -q scikit-fuzzy\n",
    "import numpy as np\n",
    "import skfuzzy as fuzz\n",
    "from skfuzzy import control as ctrl\n",
    "\n",
    "\n",
    "def food_recommendation_system(hunger_level, time_of_day_input):\n",
    "    hunger = ctrl.Antecedent(np.arange(0, 11, 1), 'hunger')\n",
    "    time = ctrl.Antecedent(np.arange(0, 24, 1), 'time')\n",
    "    food_recommendation = ctrl.Consequent(np.arange(0, 101, 1), 'food_recommendation')\n",
    "\n",
    "    hunger['not_hungry'] = fuzz.trimf(hunger.universe, [0, 0, 5])\n",
    "    hunger['somewhat_hungry'] = fuzz.trimf(hunger.universe, [3, 5, 7])\n",
    "    hunger['very_hungry'] = fuzz.trimf(hunger.universe, [6, 10, 10])\n",
    "\n",
    "    time['breakfast'] = fuzz.trimf(time.universe, [0, 6, 10])\n",
    "    time['lunch'] = fuzz.trimf(time.universe, [11, 14, 16])\n",
    "    time['dinner'] = fuzz.trimf(time.universe, [17, 21, 23])\n",
    "\n",
    "    food_recommendation['snack'] = fuzz.trimf(food_recommendation.universe, [0, 0, 50])\n",
    "    food_recommendation['light_meal'] = fuzz.trimf(food_recommendation.universe, [25, 50, 75])\n",
    "    food_recommendation['full_meal'] = fuzz.trimf(food_recommendation.universe, [50, 100, 100])\n",
    "\n",
    "    rule1 = ctrl.Rule(hunger['not_hungry'] & time['breakfast'], food_recommendation['snack'])\n",
    "    rule2 = ctrl.Rule(hunger['not_hungry'] & time['lunch'], food_recommendation['snack'])\n",
    "    rule3 = ctrl.Rule(hunger['not_hungry'] & time['dinner'], food_recommendation['snack'])\n",
    "    rule4 = ctrl.Rule(hunger['somewhat_hungry'] & time['breakfast'], food_recommendation['light_meal'])\n",
    "    rule5 = ctrl.Rule(hunger['somewhat_hungry'] & time['lunch'], food_recommendation['light_meal'])\n",
    "    rule6 = ctrl.Rule(hunger['somewhat_hungry'] & time['dinner'], food_recommendation['full_meal'])\n",
    "    rule7 = ctrl.Rule(hunger['very_hungry'], food_recommendation['full_meal'])\n",
    "\n",
    "    food_control = ctrl.ControlSystem([rule1, rule2, rule3, rule4, rule5, rule6, rule7])\n",
    "    food_simulation = ctrl.ControlSystemSimulation(food_control)\n",
    "\n",
    "    food_simulation.input['hunger'] = float(hunger_level)\n",
    "    food_simulation.input['time'] = float(time_of_day_input)\n",
    "\n",
    "    food_simulation.compute()\n",
    "\n",
    "    recommendation_score = food_simulation.output['food_recommendation']\n",
    "    print(f\"Hunger Level: {hunger_level}/10\")\n",
    "    print(f\"Time of Day: {time_of_day_input} hours\")\n",
    "    print(f\"Food Recommendation Score: {recommendation_score:.2f}%\")\n",
    "\n",
    "food_recommendation_system(hunger_level=8, time_of_day_input=12)\n"
   ]
  }
 ],
 "metadata": {
  "colab": {
   "provenance": []
  },
  "kernelspec": {
   "display_name": "Python 3",
   "language": "python",
   "name": "python3"
  },
  "language_info": {
   "codemirror_mode": {
    "name": "ipython",
    "version": 3
   },
   "file_extension": ".py",
   "mimetype": "text/x-python",
   "name": "python",
   "nbconvert_exporter": "python",
   "pygments_lexer": "ipython3",
   "version": "3.12.4"
  }
 },
 "nbformat": 4,
 "nbformat_minor": 0
}
